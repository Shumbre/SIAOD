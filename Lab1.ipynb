{
 "cells": [
  {
   "cell_type": "markdown",
   "id": "fifteen-sailing",
   "metadata": {},
   "source": [
    "# Лабораторная работа №1\n",
    "## Выполнил студент группы Бвт2005 Шумский А.Ю."
   ]
  },
  {
   "cell_type": "markdown",
   "id": "particular-syndicate",
   "metadata": {},
   "source": [
    "### Оглавление\n",
    "1. [Задание 1](#Задание-№1)\n",
    "2. [Задание 2](#Задание-№2)\n",
    "3. [Задание 3](#Задание-№3)\n",
    "4. [Вывод](#Вывод)"
   ]
  },
  {
   "cell_type": "markdown",
   "id": "arctic-stocks",
   "metadata": {},
   "source": [
    "### Задание №1\n",
    "<i> Вызвать функцию print() и передать туда строку Hello, World! </i>"
   ]
  },
  {
   "cell_type": "code",
   "execution_count": 1,
   "id": "caring-truck",
   "metadata": {
    "scrolled": true
   },
   "outputs": [
    {
     "name": "stdout",
     "output_type": "stream",
     "text": [
      "Hello, World!\n"
     ]
    }
   ],
   "source": [
    "print('Hello, World!')"
   ]
  },
  {
   "cell_type": "markdown",
   "id": "maritime-conversation",
   "metadata": {},
   "source": [
    "### Задание №2\n",
    "Написать генератор случайных матриц(многомерных), который принимает\n",
    "опциональные параметры <b>m</b>, <b>n</b>, <b>min_limit</b>, <b>max_limit</b>, где <b>m</b> и <b>n</b> указывают размер\n",
    "матрицы, а <b>min_lim</b> и <b>max_lim</b> - минимальное и максимальное значение для\n",
    "генерируемого числа."
   ]
  },
  {
   "cell_type": "code",
   "execution_count": 1,
   "id": "built-contact",
   "metadata": {},
   "outputs": [],
   "source": [
    "import random\n",
    "import time"
   ]
  },
  {
   "cell_type": "code",
   "execution_count": 1,
   "id": "alert-charm",
   "metadata": {},
   "outputs": [
    {
     "name": "stdout",
     "output_type": "stream",
     "text": [
      "11\n",
      "9\n",
      "-31\n",
      "77\n",
      "Matrix:\n",
      "[55, 19, -6, -6, 74, 4, 19, 28, 53, 7, 27]\n",
      "[15, 15, 20, 56, 69, -17, 68, 14, 43, 50, 10]\n",
      "[13, 7, 14, 55, -24, 46, 11, 52, 34, 6, -28]\n",
      "[53, 55, 18, 25, -12, 10, 23, 18, 34, 43, 37]\n",
      "[18, 28, -16, 64, 35, -18, 36, 76, 77, 53, 22]\n",
      "[26, 10, -9, -25, -31, 76, 35, 31, -7, 70, 1]\n",
      "[14, 62, -23, 76, 51, -6, 16, -7, 10, 41, 50]\n",
      "[29, -9, -28, -23, 30, 27, 23, -24, -8, 46, -31]\n",
      "[-28, 55, 59, 51, 32, -20, 75, -3, -19, 74, 76]\n"
     ]
    }
   ],
   "source": [
    "import random\n",
    "import time\n",
    "user_n, user_m, user_min_limit, user_max_limit = int(input()), int(input()), int(input()), int(input())\n",
    "Matrix = [ [ random.randint(user_min_limit, user_max_limit) for j in range(user_n)] for i in range(user_m) ]\n",
    "print('Matrix:')\n",
    "\n",
    "for i in range(user_m):\n",
    "    print(Matrix[i])"
   ]
  },
  {
   "cell_type": "markdown",
   "id": "catholic-roots",
   "metadata": {},
   "source": [
    "### Задание №3\n",
    "Реализовать методы сортировки строк числовой матрицы в соответствии с\n",
    "заданием. Оценить время работы каждого алгоритма сортировки и сравнить его со\n",
    "временем стандартной функции сортировки. Испытания проводить на сгенерированных\n",
    "матрицах."
   ]
  },
  {
   "cell_type": "code",
   "execution_count": 3,
   "id": "opposed-creature",
   "metadata": {},
   "outputs": [],
   "source": [
    "import copy"
   ]
  },
  {
   "cell_type": "code",
   "execution_count": 4,
   "id": "cleared-anniversary",
   "metadata": {},
   "outputs": [
    {
     "name": "stdout",
     "output_type": "stream",
     "text": [
      "Matrix:\n",
      "[13, 33, -66]\n",
      "[46, -8, -51]\n",
      "[63, -37, -49]\n",
      "[58, -20, -72]\n",
      "[38, -27, -48]\n",
      "Sorted matrix\n",
      "[46, -8, -51]\n",
      "[58, -20, -72]\n",
      "[13, 33, -66]\n",
      "[63, -37, -49]\n",
      "[38, -27, -48]\n",
      "--- 1 ms ---\n"
     ]
    }
   ],
   "source": [
    "# Сортировка выбором.\n",
    "# Берётся срез массива, в котором минимальный элемент переносят в самый левый угол,\n",
    "# после чего срез уменьшается и цикл повторяется.\n",
    "import random\n",
    "import copy\n",
    "import time\n",
    "start_time = time.time()\n",
    "\n",
    "M,N = 3,5\n",
    "matrix = [[random.randrange(-100,100) for y in range(M)] for x in range(N)]\n",
    "print('Matrix:')\n",
    "for i in range(len(matrix)):\n",
    "    print(matrix[i])\n",
    "#TODO\n",
    "print('Sorted matrix')\n",
    "for i in range(len(matrix)-1):\n",
    "    min_idx = 1\n",
    "    for j in range(i+1, len(matrix)-1):\n",
    "        if (matrix[j] < matrix[min_idx]):\n",
    "            min_idx = i\n",
    "    matrix[i],matrix[min_idx] = matrix[min_idx], matrix[i]\n",
    "for i in range(len(matrix)):\n",
    "    print(matrix[i])\n",
    "print(\"--- {0} ms ---\".format(round((time.time() - start_time)*1000)))"
   ]
  },
  {
   "cell_type": "code",
   "execution_count": 11,
   "id": "roman-silly",
   "metadata": {
    "scrolled": true
   },
   "outputs": [
    {
     "name": "stdout",
     "output_type": "stream",
     "text": [
      "[-63, 5, -2, 55, -100, -95, -31, -78, 88, -91]\n",
      "[-100, -95, -91, -78, -63, -31, -2, 5, 55, 88]\n",
      "--- 1 ms ---\n"
     ]
    }
   ],
   "source": [
    "# Сортировка вставкой.\n",
    "import copy\n",
    "import time\n",
    "start_time = time.time()\n",
    "\n",
    "from random import randint\n",
    "N = 10\n",
    "arr = []\n",
    "for i in range(N):\n",
    "    arr.append(randint(-100, 99))\n",
    "print(arr)\n",
    "\n",
    "for i in range(1, len(arr)):\n",
    "        temp = arr[i]\n",
    "        j = i - 1\n",
    "        while (j >= 0 and temp < arr[j]):\n",
    "            arr[j + 1] = arr[j]\n",
    "            j = j - 1\n",
    "        arr[j + 1] = temp\n",
    "print(arr)\n",
    "#TODO\n",
    "print(\"--- {0} ms ---\".format(round((time.time() - start_time)*1000)))"
   ]
  },
  {
   "cell_type": "code",
   "execution_count": 17,
   "id": "vital-implementation",
   "metadata": {},
   "outputs": [
    {
     "name": "stdout",
     "output_type": "stream",
     "text": [
      "[68, 79, 59, -64, 62, -23, 99, -33, -64, 42]\n",
      "[-64, -64, -33, -23, 42, 59, 62, 68, 79, 99]\n",
      "--- 0 ms ---\n"
     ]
    }
   ],
   "source": [
    "# Сортировка обменом. || Сортировка пузырьком.\n",
    "import copy\n",
    "import time\n",
    "start_time = time.time()\n",
    "\n",
    "from random import randint\n",
    "N = 10\n",
    "arr = []\n",
    "for i in range(N):\n",
    "    arr.append(randint(-100, 99))\n",
    "print(arr)\n",
    "\n",
    "for i in range(N-1):\n",
    "    for j in range(N-i-1):\n",
    "        if arr[j] > arr[j+1]:\n",
    "            arr[j], arr[j+1] = arr[j+1], arr[j]\n",
    " \n",
    "print(arr)\n",
    "#TODO\n",
    "print(\"--- {0} ms ---\".format(round((time.time() - start_time)*1000)))"
   ]
  },
  {
   "cell_type": "code",
   "execution_count": 21,
   "id": "veterinary-glory",
   "metadata": {},
   "outputs": [
    {
     "name": "stdout",
     "output_type": "stream",
     "text": [
      "[40, -10, 95, -3, 90, 16, 37, -60, -68, 41]\n",
      "[-68, -60, -10, -3, 16, 37, 40, 41, 90, 95]\n",
      "--- 1 ms ---\n"
     ]
    }
   ],
   "source": [
    "# Сортировка Шелла.\n",
    "import copy\n",
    "import time\n",
    "import math\n",
    "start_time = time.time()\n",
    "\n",
    "from random import randint\n",
    "N = 10\n",
    "arr = []\n",
    "for i in range(N):\n",
    "    arr.append(randint(-100, 99))\n",
    "print(arr)\n",
    "\n",
    "n = len(arr)\n",
    "k = int(math.log2(n))\n",
    "interval = 2**k -1\n",
    "while interval > 0:\n",
    "    for i in range(interval, n):\n",
    "            temp = arr[i]\n",
    "            j = i\n",
    "            while j >= interval and arr[j - interval] > temp:\n",
    "                arr[j] = arr[j - interval]\n",
    "                j -= interval\n",
    "            arr[j] = temp\n",
    "    k -= 1\n",
    "    interval = 2**k -1\n",
    "print(arr)\n",
    "#TODO\n",
    "print(\"--- {0} ms ---\".format(round((time.time() - start_time)*1000)))"
   ]
  },
  {
   "cell_type": "code",
   "execution_count": 24,
   "id": "correct-chaos",
   "metadata": {},
   "outputs": [
    {
     "name": "stdout",
     "output_type": "stream",
     "text": [
      "[-18, -8, 44, 38, 14, 2, 98, -59, -12, 84]\n",
      "--- 1 ms ---\n"
     ]
    }
   ],
   "source": [
    "# Быстрая сортировка.\n",
    "start_time = time.time()\n",
    "\n",
    "def quickSort(arr):\n",
    "    if len(arr)> 1:\n",
    "        pivot=array.pop()\n",
    "        grtr_lst, equal_lst, smlr_lst = [], [pivot], []\n",
    "        for item in arr:\n",
    "            if item == pivot:\n",
    "                equal_lst.append(item)\n",
    "            elif item > pivot:\n",
    "                grtr_lst.append(item)\n",
    "            else:\n",
    "                smlr_lst.append(item)\n",
    "        return (quickSort(smlr_lst) + equal_lst + quickSort(grtr_lst))\n",
    "    else:\n",
    "        return arr\n",
    "#TODO\n",
    "\n",
    "N = 10\n",
    "arr = []\n",
    "for i in range(N):\n",
    "    arr.append(randint(-100, 99))\n",
    "print(arr)\n",
    "\n",
    "print(\"--- {0} ms ---\".format(round((time.time() - start_time)*1000)))"
   ]
  },
  {
   "cell_type": "code",
   "execution_count": 9,
   "id": "french-czech",
   "metadata": {},
   "outputs": [
    {
     "name": "stdout",
     "output_type": "stream",
     "text": [
      "--- 0 ms ---\n"
     ]
    }
   ],
   "source": [
    "# Турнирная сортировка.\n",
    "start_time = time.time()\n",
    "#TODO\n",
    "print(\"--- {0} ms ---\".format(round((time.time() - start_time)*1000)))"
   ]
  },
  {
   "cell_type": "markdown",
   "id": "rental-jerusalem",
   "metadata": {},
   "source": [
    "### Вывод\n"
   ]
  },
  {
   "cell_type": "code",
   "execution_count": null,
   "id": "19e7f6a9",
   "metadata": {},
   "outputs": [],
   "source": []
  }
 ],
 "metadata": {
  "kernelspec": {
   "display_name": "Python 3 (ipykernel)",
   "language": "python",
   "name": "python3"
  },
  "language_info": {
   "codemirror_mode": {
    "name": "ipython",
    "version": 3
   },
   "file_extension": ".py",
   "mimetype": "text/x-python",
   "name": "python",
   "nbconvert_exporter": "python",
   "pygments_lexer": "ipython3",
   "version": "3.9.7"
  }
 },
 "nbformat": 4,
 "nbformat_minor": 5
}
