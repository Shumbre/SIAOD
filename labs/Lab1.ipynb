{
 "cells": [
  {
   "cell_type": "markdown",
   "id": "fifteen-sailing",
   "metadata": {},
   "source": [
    "# Лабораторная работа №1\n",
    "## Выполнил студент группы Бвт2005 Шумский А.Ю."
   ]
  },
  {
   "cell_type": "markdown",
   "id": "particular-syndicate",
   "metadata": {},
   "source": [
    "### Оглавление\n",
    "1. [Задание 1](#Задание-№1)\n",
    "2. [Задание 2](#Задание-№2)\n",
    "3. [Задание 3](#Задание-№3)\n",
    "4. [Вывод](#Вывод)"
   ]
  },
  {
   "cell_type": "markdown",
   "id": "arctic-stocks",
   "metadata": {},
   "source": [
    "### Задание №1\n",
    "<i> Вызвать функцию print() и передать туда строку Hello, World! </i>"
   ]
  },
  {
   "cell_type": "code",
   "execution_count": 1,
   "id": "caring-truck",
   "metadata": {
    "scrolled": true
   },
   "outputs": [
    {
     "name": "stdout",
     "output_type": "stream",
     "text": [
      "Hello, World!\n"
     ]
    }
   ],
   "source": [
    "print('Hello, World!')"
   ]
  },
  {
   "cell_type": "markdown",
   "id": "maritime-conversation",
   "metadata": {},
   "source": [
    "### Задание №2\n",
    "Написать генератор случайных матриц(многомерных), который принимает\n",
    "опциональные параметры <b>m</b>, <b>n</b>, <b>min_limit</b>, <b>max_limit</b>, где <b>m</b> и <b>n</b> указывают размер\n",
    "матрицы, а <b>min_lim</b> и <b>max_lim</b> - минимальное и максимальное значение для\n",
    "генерируемого числа."
   ]
  },
  {
   "cell_type": "code",
   "execution_count": 1,
   "id": "built-contact",
   "metadata": {},
   "outputs": [],
   "source": [
    "import random\n",
    "import time"
   ]
  },
  {
   "cell_type": "code",
   "execution_count": 14,
   "id": "alert-charm",
   "metadata": {},
   "outputs": [
    {
     "name": "stdout",
     "output_type": "stream",
     "text": [
      "25\n",
      "25\n",
      "0\n",
      "9\n",
      "5 9 8 8 5 3 4 4 4 3 0 7 7 8 0 2 8 0 1 4 8 0 5 5 3 \n",
      "8 4 0 4 8 7 9 9 3 7 3 6 9 2 3 0 7 3 6 9 3 3 3 2 8 \n",
      "3 8 5 9 6 5 1 6 4 1 5 6 7 3 6 9 6 7 5 9 4 5 5 2 5 \n",
      "1 6 8 2 2 2 0 2 5 0 5 7 9 7 2 7 8 2 0 8 3 2 2 6 4 \n",
      "2 9 6 2 1 3 3 2 7 6 0 5 8 0 3 2 6 5 8 8 6 5 4 1 1 \n",
      "5 3 9 6 8 5 2 7 8 3 6 8 1 0 4 8 7 2 4 7 4 3 4 3 6 \n",
      "4 4 9 2 4 4 4 0 9 3 4 2 3 4 1 0 3 2 8 9 2 5 6 5 0 \n",
      "1 9 7 7 9 7 4 2 8 4 6 8 0 8 2 7 5 4 6 4 8 8 7 3 6 \n",
      "3 6 5 0 7 1 2 7 2 6 6 1 5 2 2 2 8 0 3 1 0 2 6 1 7 \n",
      "6 3 1 9 0 3 2 0 9 1 4 1 3 0 3 7 5 8 6 3 6 5 1 5 0 \n",
      "5 7 6 3 0 7 6 5 5 0 6 7 3 2 1 1 8 9 6 5 8 1 1 9 2 \n",
      "7 0 3 1 6 1 5 8 7 8 5 5 8 9 7 1 9 1 4 7 5 1 9 5 0 \n",
      "0 8 0 0 0 0 2 8 0 0 0 2 7 0 0 2 1 7 1 2 1 8 0 7 7 \n",
      "2 9 6 4 7 7 7 3 4 0 4 3 5 4 5 6 3 8 8 2 7 3 0 9 1 \n",
      "4 3 1 7 0 2 8 1 7 0 6 4 9 2 0 2 3 1 6 4 1 7 0 3 2 \n",
      "1 5 3 3 9 5 8 0 3 1 8 5 3 6 3 9 4 6 6 6 5 0 5 6 1 \n",
      "5 7 2 6 6 9 9 4 7 9 7 0 4 1 2 1 4 1 2 4 6 4 3 1 9 \n",
      "4 7 2 5 7 6 8 2 5 3 0 1 4 6 2 5 5 6 6 0 6 5 3 5 0 \n",
      "3 4 5 5 2 4 0 4 1 7 7 6 1 6 3 2 2 0 7 5 5 4 6 1 9 \n",
      "2 5 2 7 6 5 7 6 6 7 6 2 0 5 2 4 8 9 3 1 1 4 1 6 7 \n",
      "2 5 9 9 1 2 7 2 1 3 0 0 2 0 2 0 2 1 0 6 4 3 9 9 4 \n",
      "5 2 7 0 4 5 7 8 0 1 5 0 6 0 0 0 8 6 4 7 2 0 0 7 6 \n",
      "5 3 8 1 0 2 7 5 6 9 4 8 0 2 5 6 7 9 8 9 9 8 1 9 7 \n",
      "8 8 8 3 9 2 8 2 6 2 7 1 4 8 6 0 2 1 2 6 0 5 0 9 6 \n",
      "9 2 6 9 4 1 7 5 2 0 0 7 0 3 5 6 3 7 0 9 9 0 2 2 6 \n"
     ]
    }
   ],
   "source": [
    "m, n, min_limit, max_limit = int(input()), int(input()), int(input()), int(input())\n",
    "def matrix_rand(m, n, min_limit, max_limit):\n",
    "    matrix = []\n",
    "    for i in range (m):\n",
    "        array=list()\n",
    "        for j in range(n):\n",
    "            array.append(random.randint(min_limit, max_limit))\n",
    "        matrix.append(array) \n",
    "    return matrix\n",
    "\n",
    "def matrix_print(matrix):\n",
    "    for i in range(0, len(matrix)):\n",
    "        for j in range(0, len(matrix[i])):\n",
    "            print(matrix[i][j], end=' ')\n",
    "        print()\n",
    "\n",
    "matrix = matrix_rand(m, n, min_limit, max_limit)\n",
    "matrix_print(matrix)"
   ]
  },
  {
   "cell_type": "markdown",
   "id": "catholic-roots",
   "metadata": {},
   "source": [
    "### Задание №3\n",
    "Реализовать методы сортировки строк числовой матрицы в соответствии с\n",
    "заданием. Оценить время работы каждого алгоритма сортировки и сравнить его со\n",
    "временем стандартной функции сортировки. Испытания проводить на сгенерированных\n",
    "матрицах."
   ]
  },
  {
   "cell_type": "code",
   "execution_count": 3,
   "id": "opposed-creature",
   "metadata": {},
   "outputs": [],
   "source": [
    "import copy"
   ]
  },
  {
   "cell_type": "code",
   "execution_count": 15,
   "id": "cleared-anniversary",
   "metadata": {
    "scrolled": false
   },
   "outputs": [
    {
     "name": "stdout",
     "output_type": "stream",
     "text": [
      "0 0 0 0 1 2 3 3 3 4 4 4 4 5 5 5 5 7 7 8 8 8 8 8 9 \n",
      "0 0 2 2 3 3 3 3 3 3 3 4 4 6 6 7 7 7 8 8 8 9 9 9 9 \n",
      "1 1 2 3 3 4 4 5 5 5 5 5 5 5 6 6 6 6 6 7 7 8 9 9 9 \n",
      "0 0 0 1 2 2 2 2 2 2 2 2 3 4 5 5 6 6 7 7 7 8 8 8 9 \n",
      "0 0 1 1 1 2 2 2 2 3 3 3 4 5 5 5 6 6 6 6 7 8 8 8 9 \n",
      "0 1 2 2 3 3 3 3 4 4 4 4 5 5 6 6 6 7 7 7 8 8 8 8 9 \n",
      "0 0 0 1 2 2 2 2 3 3 3 4 4 4 4 4 4 4 5 5 6 8 9 9 9 \n",
      "0 1 2 2 3 4 4 4 4 5 6 6 6 7 7 7 7 7 8 8 8 8 8 9 9 \n",
      "0 0 0 1 1 1 1 2 2 2 2 2 2 3 3 5 5 6 6 6 6 7 7 7 8 \n",
      "0 0 0 0 1 1 1 1 2 3 3 3 3 3 4 5 5 5 6 6 6 7 8 9 9 \n",
      "0 0 1 1 1 1 2 2 3 3 5 5 5 5 6 6 6 6 7 7 7 8 8 9 9 \n",
      "0 0 1 1 1 1 1 3 4 5 5 5 5 5 6 7 7 7 7 8 8 8 9 9 9 \n",
      "0 0 0 0 0 0 0 0 0 0 0 1 1 1 2 2 2 2 7 7 7 7 8 8 8 \n",
      "0 0 1 2 2 3 3 3 3 4 4 4 4 5 5 6 6 7 7 7 7 8 8 9 9 \n",
      "0 0 0 0 1 1 1 1 2 2 2 2 3 3 3 4 4 4 6 6 7 7 7 8 9 \n",
      "0 0 1 1 1 3 3 3 3 3 4 5 5 5 5 5 6 6 6 6 6 8 8 9 9 \n",
      "0 1 1 1 1 2 2 2 3 4 4 4 4 4 5 6 6 6 7 7 7 9 9 9 9 \n",
      "0 0 0 1 2 2 2 3 3 4 4 5 5 5 5 5 5 6 6 6 6 6 7 7 8 \n",
      "0 0 1 1 1 2 2 2 3 3 4 4 4 4 5 5 5 5 6 6 6 7 7 7 9 \n",
      "0 1 1 1 2 2 2 2 3 4 4 5 5 5 6 6 6 6 6 7 7 7 7 8 9 \n",
      "0 0 0 0 0 1 1 1 2 2 2 2 2 2 3 3 4 4 5 6 7 9 9 9 9 \n",
      "0 0 0 0 0 0 0 0 1 2 2 4 4 5 5 5 6 6 6 7 7 7 7 8 8 \n",
      "0 0 1 1 2 2 3 4 5 5 5 6 6 7 7 7 8 8 8 8 9 9 9 9 9 \n",
      "0 0 0 1 1 2 2 2 2 2 3 4 5 6 6 6 6 7 8 8 8 8 8 9 9 \n",
      "0 0 0 0 0 1 2 2 2 2 3 3 4 5 5 6 6 6 7 7 7 9 9 9 9 \n",
      "--- 5 ms ---\n"
     ]
    }
   ],
   "source": [
    "# Сортировка выбором.\n",
    "# Берётся срез массива, в котором минимальный элемент переносят в самый левый угол,\n",
    "# после чего срез уменьшается и цикл повторяется.\n",
    "import copy\n",
    "start_time = time.time()\n",
    "mat = copy.deepcopy(matrix)\n",
    "def sort_sel(line):\n",
    "    for i in range(len(line)):\n",
    "        index = i\n",
    "        for j in range(i + 1, len(line)):\n",
    "            if line[index] > line[j]:\n",
    "                index = j\n",
    "        temp = line[index]\n",
    "        line[index] = line[i]\n",
    "        line[i] = temp\n",
    "            \n",
    "\n",
    "for i in range(len(mat)):\n",
    "    sort_sel(mat[i])\n",
    "\n",
    "sort_sel_time = round((time.time() - start_time)*1000)\n",
    "matrix_print(mat)\n",
    "print(\"--- {0} ms ---\".format(sort_sel_time))"
   ]
  },
  {
   "cell_type": "code",
   "execution_count": 16,
   "id": "roman-silly",
   "metadata": {},
   "outputs": [
    {
     "name": "stdout",
     "output_type": "stream",
     "text": [
      "0 0 0 0 1 2 3 3 3 4 4 4 4 5 5 5 5 7 7 8 8 8 8 8 9 \n",
      "0 0 2 2 3 3 3 3 3 3 3 4 4 6 6 7 7 7 8 8 8 9 9 9 9 \n",
      "1 1 2 3 3 4 4 5 5 5 5 5 5 5 6 6 6 6 6 7 7 8 9 9 9 \n",
      "0 0 0 1 2 2 2 2 2 2 2 2 3 4 5 5 6 6 7 7 7 8 8 8 9 \n",
      "0 0 1 1 1 2 2 2 2 3 3 3 4 5 5 5 6 6 6 6 7 8 8 8 9 \n",
      "0 1 2 2 3 3 3 3 4 4 4 4 5 5 6 6 6 7 7 7 8 8 8 8 9 \n",
      "0 0 0 1 2 2 2 2 3 3 3 4 4 4 4 4 4 4 5 5 6 8 9 9 9 \n",
      "0 1 2 2 3 4 4 4 4 5 6 6 6 7 7 7 7 7 8 8 8 8 8 9 9 \n",
      "0 0 0 1 1 1 1 2 2 2 2 2 2 3 3 5 5 6 6 6 6 7 7 7 8 \n",
      "0 0 0 0 1 1 1 1 2 3 3 3 3 3 4 5 5 5 6 6 6 7 8 9 9 \n",
      "0 0 1 1 1 1 2 2 3 3 5 5 5 5 6 6 6 6 7 7 7 8 8 9 9 \n",
      "0 0 1 1 1 1 1 3 4 5 5 5 5 5 6 7 7 7 7 8 8 8 9 9 9 \n",
      "0 0 0 0 0 0 0 0 0 0 0 1 1 1 2 2 2 2 7 7 7 7 8 8 8 \n",
      "0 0 1 2 2 3 3 3 3 4 4 4 4 5 5 6 6 7 7 7 7 8 8 9 9 \n",
      "0 0 0 0 1 1 1 1 2 2 2 2 3 3 3 4 4 4 6 6 7 7 7 8 9 \n",
      "0 0 1 1 1 3 3 3 3 3 4 5 5 5 5 5 6 6 6 6 6 8 8 9 9 \n",
      "0 1 1 1 1 2 2 2 3 4 4 4 4 4 5 6 6 6 7 7 7 9 9 9 9 \n",
      "0 0 0 1 2 2 2 3 3 4 4 5 5 5 5 5 5 6 6 6 6 6 7 7 8 \n",
      "0 0 1 1 1 2 2 2 3 3 4 4 4 4 5 5 5 5 6 6 6 7 7 7 9 \n",
      "0 1 1 1 2 2 2 2 3 4 4 5 5 5 6 6 6 6 6 7 7 7 7 8 9 \n",
      "0 0 0 0 0 1 1 1 2 2 2 2 2 2 3 3 4 4 5 6 7 9 9 9 9 \n",
      "0 0 0 0 0 0 0 0 1 2 2 4 4 5 5 5 6 6 6 7 7 7 7 8 8 \n",
      "0 0 1 1 2 2 3 4 5 5 5 6 6 7 7 7 8 8 8 8 9 9 9 9 9 \n",
      "0 0 0 1 1 2 2 2 2 2 3 4 5 6 6 6 6 7 8 8 8 8 8 9 9 \n",
      "0 0 0 0 0 1 2 2 2 2 3 3 4 5 5 6 6 6 7 7 7 9 9 9 9 \n",
      "--- 45 ms ---\n"
     ]
    }
   ],
   "source": [
    "# Сортировка вставкой.\n",
    "start_time = time.time()\n",
    "#TODO\n",
    "mat = copy.deepcopy(matrix)\n",
    "def sort_insertion(line):\n",
    "    for i in range(len(line)):\n",
    "        a = line[i]\n",
    "        pos = i\n",
    "        \n",
    "        while pos > 0 and line[pos - 1] > a:\n",
    "            line[pos] = line[pos - 1]\n",
    "            pos = pos - 1\n",
    "        line[pos] = a\n",
    "    return line\n",
    "\n",
    "for line in mat:\n",
    "    line = sort_insertion(line)\n",
    "matrix_print(mat)\n",
    "print(\"--- {0} ms ---\".format(round((time.time() - start_time)*1000)))"
   ]
  },
  {
   "cell_type": "code",
   "execution_count": 17,
   "id": "vital-implementation",
   "metadata": {},
   "outputs": [
    {
     "name": "stdout",
     "output_type": "stream",
     "text": [
      "0 0 0 0 1 2 3 3 3 4 4 4 4 5 5 5 5 7 7 8 8 8 8 8 9 \n",
      "0 0 2 2 3 3 3 3 3 3 3 4 4 6 6 7 7 7 8 8 8 9 9 9 9 \n",
      "1 1 2 3 3 4 4 5 5 5 5 5 5 5 6 6 6 6 6 7 7 8 9 9 9 \n",
      "0 0 0 1 2 2 2 2 2 2 2 2 3 4 5 5 6 6 7 7 7 8 8 8 9 \n",
      "0 0 1 1 1 2 2 2 2 3 3 3 4 5 5 5 6 6 6 6 7 8 8 8 9 \n",
      "0 1 2 2 3 3 3 3 4 4 4 4 5 5 6 6 6 7 7 7 8 8 8 8 9 \n",
      "0 0 0 1 2 2 2 2 3 3 3 4 4 4 4 4 4 4 5 5 6 8 9 9 9 \n",
      "0 1 2 2 3 4 4 4 4 5 6 6 6 7 7 7 7 7 8 8 8 8 8 9 9 \n",
      "0 0 0 1 1 1 1 2 2 2 2 2 2 3 3 5 5 6 6 6 6 7 7 7 8 \n",
      "0 0 0 0 1 1 1 1 2 3 3 3 3 3 4 5 5 5 6 6 6 7 8 9 9 \n",
      "0 0 1 1 1 1 2 2 3 3 5 5 5 5 6 6 6 6 7 7 7 8 8 9 9 \n",
      "0 0 1 1 1 1 1 3 4 5 5 5 5 5 6 7 7 7 7 8 8 8 9 9 9 \n",
      "0 0 0 0 0 0 0 0 0 0 0 1 1 1 2 2 2 2 7 7 7 7 8 8 8 \n",
      "0 0 1 2 2 3 3 3 3 4 4 4 4 5 5 6 6 7 7 7 7 8 8 9 9 \n",
      "0 0 0 0 1 1 1 1 2 2 2 2 3 3 3 4 4 4 6 6 7 7 7 8 9 \n",
      "0 0 1 1 1 3 3 3 3 3 4 5 5 5 5 5 6 6 6 6 6 8 8 9 9 \n",
      "0 1 1 1 1 2 2 2 3 4 4 4 4 4 5 6 6 6 7 7 7 9 9 9 9 \n",
      "0 0 0 1 2 2 2 3 3 4 4 5 5 5 5 5 5 6 6 6 6 6 7 7 8 \n",
      "0 0 1 1 1 2 2 2 3 3 4 4 4 4 5 5 5 5 6 6 6 7 7 7 9 \n",
      "0 1 1 1 2 2 2 2 3 4 4 5 5 5 6 6 6 6 6 7 7 7 7 8 9 \n",
      "0 0 0 0 0 1 1 1 2 2 2 2 2 2 3 3 4 4 5 6 7 9 9 9 9 \n",
      "0 0 0 0 0 0 0 0 1 2 2 4 4 5 5 5 6 6 6 7 7 7 7 8 8 \n",
      "0 0 1 1 2 2 3 4 5 5 5 6 6 7 7 7 8 8 8 8 9 9 9 9 9 \n",
      "0 0 0 1 1 2 2 2 2 2 3 4 5 6 6 6 6 7 8 8 8 8 8 9 9 \n",
      "0 0 0 0 0 1 2 2 2 2 3 3 4 5 5 6 6 6 7 7 7 9 9 9 9 \n",
      "--- 72 ms ---\n"
     ]
    }
   ],
   "source": [
    "# Сортировка обменом. || Сортировка пузырьком.\n",
    "start_time = time.time()\n",
    "#TODO\n",
    "mat = copy.deepcopy(matrix)\n",
    "def bubble_sort(line):\n",
    "    for i in range (len(line)):\n",
    "        k = 0\n",
    "        for j in range(1, len(line)-i):\n",
    "            if line[j] < line[j-1]:\n",
    "                temp = line[j]\n",
    "                line[j] = line[j-1]\n",
    "                line[j-1] = temp\n",
    "                k+=1\n",
    "        if k == 0:\n",
    "            break\n",
    "            \n",
    "for line in mat:\n",
    "    line = bubble_sort(line)\n",
    "matrix_print(mat)\n",
    "print(\"--- {0} ms ---\".format(round((time.time() - start_time)*1000)))"
   ]
  },
  {
   "cell_type": "code",
   "execution_count": 18,
   "id": "veterinary-glory",
   "metadata": {},
   "outputs": [
    {
     "name": "stdout",
     "output_type": "stream",
     "text": [
      "0 0 0 0 1 2 3 3 3 4 4 4 4 5 5 5 5 7 7 8 8 8 8 8 9 \n",
      "0 0 2 2 3 3 3 3 3 3 3 4 4 6 6 7 7 7 8 8 8 9 9 9 9 \n",
      "1 1 2 3 3 4 4 5 5 5 5 5 5 5 6 6 6 6 6 7 7 8 9 9 9 \n",
      "0 0 0 1 2 2 2 2 2 2 2 2 3 4 5 5 6 6 7 7 7 8 8 8 9 \n",
      "0 0 1 1 1 2 2 2 2 3 3 3 4 5 5 5 6 6 6 6 7 8 8 8 9 \n",
      "0 1 2 2 3 3 3 3 4 4 4 4 5 5 6 6 6 7 7 7 8 8 8 8 9 \n",
      "0 0 0 1 2 2 2 2 3 3 3 4 4 4 4 4 4 4 5 5 6 8 9 9 9 \n",
      "0 1 2 2 3 4 4 4 4 5 6 6 6 7 7 7 7 7 8 8 8 8 8 9 9 \n",
      "0 0 0 1 1 1 1 2 2 2 2 2 2 3 3 5 5 6 6 6 6 7 7 7 8 \n",
      "0 0 0 0 1 1 1 1 2 3 3 3 3 3 4 5 5 5 6 6 6 7 8 9 9 \n",
      "0 0 1 1 1 1 2 2 3 3 5 5 5 5 6 6 6 6 7 7 7 8 8 9 9 \n",
      "0 0 1 1 1 1 1 3 4 5 5 5 5 5 6 7 7 7 7 8 8 8 9 9 9 \n",
      "0 0 0 0 0 0 0 0 0 0 0 1 1 1 2 2 2 2 7 7 7 7 8 8 8 \n",
      "0 0 1 2 2 3 3 3 3 4 4 4 4 5 5 6 6 7 7 7 7 8 8 9 9 \n",
      "0 0 0 0 1 1 1 1 2 2 2 2 3 3 3 4 4 4 6 6 7 7 7 8 9 \n",
      "0 0 1 1 1 3 3 3 3 3 4 5 5 5 5 5 6 6 6 6 6 8 8 9 9 \n",
      "0 1 1 1 1 2 2 2 3 4 4 4 4 4 5 6 6 6 7 7 7 9 9 9 9 \n",
      "0 0 0 1 2 2 2 3 3 4 4 5 5 5 5 5 5 6 6 6 6 6 7 7 8 \n",
      "0 0 1 1 1 2 2 2 3 3 4 4 4 4 5 5 5 5 6 6 6 7 7 7 9 \n",
      "0 1 1 1 2 2 2 2 3 4 4 5 5 5 6 6 6 6 6 7 7 7 7 8 9 \n",
      "0 0 0 0 0 1 1 1 2 2 2 2 2 2 3 3 4 4 5 6 7 9 9 9 9 \n",
      "0 0 0 0 0 0 0 0 1 2 2 4 4 5 5 5 6 6 6 7 7 7 7 8 8 \n",
      "0 0 1 1 2 2 3 4 5 5 5 6 6 7 7 7 8 8 8 8 9 9 9 9 9 \n",
      "0 0 0 1 1 2 2 2 2 2 3 4 5 6 6 6 6 7 8 8 8 8 8 9 9 \n",
      "0 0 0 0 0 1 2 2 2 2 3 3 4 5 5 6 6 6 7 7 7 9 9 9 9 \n",
      "--- 63 ms ---\n"
     ]
    }
   ],
   "source": [
    "# Сортировка Шелла.\n",
    "start_time = time.time()\n",
    "#TODO\n",
    "mat = copy.deepcopy(matrix)\n",
    "def shell_sort(line):\n",
    "    step = int(len(line) / 2)\n",
    "    while step > 0:\n",
    "        for i in range(step, len(line), step):\n",
    "            key = line[i]\n",
    "            j = i - step\n",
    "            while j >= 0 and key < line[j]:\n",
    "                line[j + step] = line[j]\n",
    "                j = j - step\n",
    "            line[j + step] = key\n",
    "        step = int(step / 2)\n",
    "        \n",
    "for i in range(len(mat)):\n",
    "    shell_sort(mat[i])\n",
    "    \n",
    "matrix_print(mat)\n",
    "print(\"--- {0} ms ---\".format(round((time.time() - start_time)*1000)))"
   ]
  },
  {
   "cell_type": "code",
   "execution_count": 19,
   "id": "correct-chaos",
   "metadata": {},
   "outputs": [
    {
     "name": "stdout",
     "output_type": "stream",
     "text": [
      "0 0 0 0 1 2 3 3 3 4 4 4 4 5 5 5 5 7 7 8 8 8 8 8 9 \n",
      "0 0 2 2 3 3 3 3 3 3 3 4 4 6 6 7 7 7 8 8 8 9 9 9 9 \n",
      "1 1 2 3 3 4 4 5 5 5 5 5 5 5 6 6 6 6 6 7 7 8 9 9 9 \n",
      "0 0 0 1 2 2 2 2 2 2 2 2 3 4 5 5 6 6 7 7 7 8 8 8 9 \n",
      "0 0 1 1 1 2 2 2 2 3 3 3 4 5 5 5 6 6 6 6 7 8 8 8 9 \n",
      "0 1 2 2 3 3 3 3 4 4 4 4 5 5 6 6 6 7 7 7 8 8 8 8 9 \n",
      "0 0 0 1 2 2 2 2 3 3 3 4 4 4 4 4 4 4 5 5 6 8 9 9 9 \n",
      "0 1 2 2 3 4 4 4 4 5 6 6 6 7 7 7 7 7 8 8 8 8 8 9 9 \n",
      "0 0 0 1 1 1 1 2 2 2 2 2 2 3 3 5 5 6 6 6 6 7 7 7 8 \n",
      "0 0 0 0 1 1 1 1 2 3 3 3 3 3 4 5 5 5 6 6 6 7 8 9 9 \n",
      "0 0 1 1 1 1 2 2 3 3 5 5 5 5 6 6 6 6 7 7 7 8 8 9 9 \n",
      "0 0 1 1 1 1 1 3 4 5 5 5 5 5 6 7 7 7 7 8 8 8 9 9 9 \n",
      "0 0 0 0 0 0 0 0 0 0 0 1 1 1 2 2 2 2 7 7 7 7 8 8 8 \n",
      "0 0 1 2 2 3 3 3 3 4 4 4 4 5 5 6 6 7 7 7 7 8 8 9 9 \n",
      "0 0 0 0 1 1 1 1 2 2 2 2 3 3 3 4 4 4 6 6 7 7 7 8 9 \n",
      "0 0 1 1 1 3 3 3 3 3 4 5 5 5 5 5 6 6 6 6 6 8 8 9 9 \n",
      "0 1 1 1 1 2 2 2 3 4 4 4 4 4 5 6 6 6 7 7 7 9 9 9 9 \n",
      "0 0 0 1 2 2 2 3 3 4 4 5 5 5 5 5 5 6 6 6 6 6 7 7 8 \n",
      "0 0 1 1 1 2 2 2 3 3 4 4 4 4 5 5 5 5 6 6 6 7 7 7 9 \n",
      "0 1 1 1 2 2 2 2 3 4 4 5 5 5 6 6 6 6 6 7 7 7 7 8 9 \n",
      "0 0 0 0 0 1 1 1 2 2 2 2 2 2 3 3 4 4 5 6 7 9 9 9 9 \n",
      "0 0 0 0 0 0 0 0 1 2 2 4 4 5 5 5 6 6 6 7 7 7 7 8 8 \n",
      "0 0 1 1 2 2 3 4 5 5 5 6 6 7 7 7 8 8 8 8 9 9 9 9 9 \n",
      "0 0 0 1 1 2 2 2 2 2 3 4 5 6 6 6 6 7 8 8 8 8 8 9 9 \n",
      "0 0 0 0 0 1 2 2 2 2 3 3 4 5 5 6 6 6 7 7 7 9 9 9 9 \n",
      "--- 2 ms ---\n"
     ]
    }
   ],
   "source": [
    "# Быстрая сортировка.\n",
    "mat = copy.deepcopy(matrix)\n",
    "\n",
    "start_time = time.time()\n",
    "\n",
    "def partition(line, start, end):\n",
    "    piv = line[start]\n",
    "    left = start + 1\n",
    "    right = end\n",
    "    while True:\n",
    "        while line[right] > piv and right > start:\n",
    "            right -= 1\n",
    "        while line[left] <= piv and left < end:\n",
    "            left += 1\n",
    "        if left >= right:\n",
    "            break\n",
    "        temp = line[left]\n",
    "        line[left] = line[right]\n",
    "        line[right] = temp\n",
    "    line[start] = line[right]\n",
    "    line[right] = piv\n",
    "    return right\n",
    "\n",
    "def __quick_sort(line, start, end):\n",
    "    if end > start:\n",
    "        piv_index = partition(line, start, end)\n",
    "        __quick_sort(line, start, piv_index - 1)\n",
    "        __quick_sort(line, piv_index + 1, end)\n",
    "   \n",
    "\n",
    "def quick_sort(line):\n",
    "    __quick_sort(line, 0, len(line) - 1)\n",
    "        \n",
    "        \n",
    "for i in range(len(mat)):\n",
    "    quick_sort(mat[i])\n",
    "        \n",
    "\n",
    "quick_sort_time = round((time.time() - start_time)*1000)\n",
    "matrix_print(mat)\n",
    "print(\"--- {0} ms ---\".format(quick_sort_time))"
   ]
  },
  {
   "cell_type": "code",
   "execution_count": 20,
   "id": "french-czech",
   "metadata": {},
   "outputs": [
    {
     "name": "stdout",
     "output_type": "stream",
     "text": [
      "0 0 0 0 1 2 3 3 3 4 4 4 4 5 5 5 5 7 7 8 8 8 8 8 9 \n",
      "0 0 2 2 3 3 3 3 3 3 3 4 4 6 6 7 7 7 8 8 8 9 9 9 9 \n",
      "1 1 2 3 3 4 4 5 5 5 5 5 5 5 6 6 6 6 6 7 7 8 9 9 9 \n",
      "0 0 0 1 2 2 2 2 2 2 2 2 3 4 5 5 6 6 7 7 7 8 8 8 9 \n",
      "0 0 1 1 1 2 2 2 2 3 3 3 4 5 5 5 6 6 6 6 7 8 8 8 9 \n",
      "0 1 2 2 3 3 3 3 4 4 4 4 5 5 6 6 6 7 7 7 8 8 8 8 9 \n",
      "0 0 0 1 2 2 2 2 3 3 3 4 4 4 4 4 4 4 5 5 6 8 9 9 9 \n",
      "0 1 2 2 3 4 4 4 4 5 6 6 6 7 7 7 7 7 8 8 8 8 8 9 9 \n",
      "0 0 0 1 1 1 1 2 2 2 2 2 2 3 3 5 5 6 6 6 6 7 7 7 8 \n",
      "0 0 0 0 1 1 1 1 2 3 3 3 3 3 4 5 5 5 6 6 6 7 8 9 9 \n",
      "0 0 1 1 1 1 2 2 3 3 5 5 5 5 6 6 6 6 7 7 7 8 8 9 9 \n",
      "0 0 1 1 1 1 1 3 4 5 5 5 5 5 6 7 7 7 7 8 8 8 9 9 9 \n",
      "0 0 0 0 0 0 0 0 0 0 0 1 1 1 2 2 2 2 7 7 7 7 8 8 8 \n",
      "0 0 1 2 2 3 3 3 3 4 4 4 4 5 5 6 6 7 7 7 7 8 8 9 9 \n",
      "0 0 0 0 1 1 1 1 2 2 2 2 3 3 3 4 4 4 6 6 7 7 7 8 9 \n",
      "0 0 1 1 1 3 3 3 3 3 4 5 5 5 5 5 6 6 6 6 6 8 8 9 9 \n",
      "0 1 1 1 1 2 2 2 3 4 4 4 4 4 5 6 6 6 7 7 7 9 9 9 9 \n",
      "0 0 0 1 2 2 2 3 3 4 4 5 5 5 5 5 5 6 6 6 6 6 7 7 8 \n",
      "0 0 1 1 1 2 2 2 3 3 4 4 4 4 5 5 5 5 6 6 6 7 7 7 9 \n",
      "0 1 1 1 2 2 2 2 3 4 4 5 5 5 6 6 6 6 6 7 7 7 7 8 9 \n",
      "0 0 0 0 0 1 1 1 2 2 2 2 2 2 3 3 4 4 5 6 7 9 9 9 9 \n",
      "0 0 0 0 0 0 0 0 1 2 2 4 4 5 5 5 6 6 6 7 7 7 7 8 8 \n",
      "0 0 1 1 2 2 3 4 5 5 5 6 6 7 7 7 8 8 8 8 9 9 9 9 9 \n",
      "0 0 0 1 1 2 2 2 2 2 3 4 5 6 6 6 6 7 8 8 8 8 8 9 9 \n",
      "0 0 0 0 0 1 2 2 2 2 3 3 4 5 5 6 6 6 7 7 7 9 9 9 9 \n",
      "--- 51 ms ---\n"
     ]
    }
   ],
   "source": [
    "# Турнирная сортировка.\n",
    "start_time = time.time()\n",
    "#TODO\n",
    "import heapq\n",
    "\n",
    "mat = copy.deepcopy(matrix)\n",
    "\n",
    "start_time = time.time()\n",
    "\n",
    "def tournament_sort(line, heapsize):\n",
    "    heap = []\n",
    "    if len(line) >= heapsize:\n",
    "        heap = line[:heapsize]\n",
    "    else:\n",
    "        heap = line[:]\n",
    "    heapq.heapify(heap)\n",
    "    \n",
    "    winners = [float('-inf')]\n",
    "    losers = []\n",
    "    \n",
    "    i = heapsize\n",
    "    while i < len(line) or len(heap) > 0:\n",
    "        heap_top = heapq.heappop(heap)\n",
    "        if heap_top >= winners[-1]:\n",
    "            winners.append(heap_top)\n",
    "        else:\n",
    "            losers.append(heap_top)\n",
    "        \n",
    "        if i < len(line):\n",
    "            heapq.heappush(heap, line[i])\n",
    "        i += 1\n",
    "    \n",
    "    del winners[0]\n",
    "    line.clear()\n",
    "    line.extend(losers)\n",
    "    line.extend(winners)\n",
    "    \n",
    "    if len(losers) > 0:\n",
    "        tournament_sort(line, heapsize)\n",
    "    \n",
    "for i in range(len(mat)):\n",
    "    tournament_sort(mat[i], 10)\n",
    "\n",
    "matrix_print(mat)\n",
    "print(\"--- {0} ms ---\".format(round((time.time() - start_time)*1000)))"
   ]
  },
  {
   "cell_type": "markdown",
   "id": "rental-jerusalem",
   "metadata": {},
   "source": [
    "### Вывод\n"
   ]
  },
  {
   "cell_type": "code",
   "execution_count": null,
   "id": "19e7f6a9",
   "metadata": {},
   "outputs": [],
   "source": []
  },
  {
   "cell_type": "code",
   "execution_count": null,
   "id": "146d9721",
   "metadata": {},
   "outputs": [],
   "source": []
  }
 ],
 "metadata": {
  "kernelspec": {
   "display_name": "Python 3 (ipykernel)",
   "language": "python",
   "name": "python3"
  },
  "language_info": {
   "codemirror_mode": {
    "name": "ipython",
    "version": 3
   },
   "file_extension": ".py",
   "mimetype": "text/x-python",
   "name": "python",
   "nbconvert_exporter": "python",
   "pygments_lexer": "ipython3",
   "version": "3.9.7"
  }
 },
 "nbformat": 4,
 "nbformat_minor": 5
}
